{
  "nbformat": 4,
  "nbformat_minor": 0,
  "metadata": {
    "colab": {
      "name": "unsteady_heat_conduction.ipynb",
      "provenance": [],
      "collapsed_sections": []
    },
    "kernelspec": {
      "name": "python3",
      "display_name": "Python 3"
    },
    "language_info": {
      "name": "python"
    },
    "gpuClass": "standard"
  },
  "cells": [
    {
      "cell_type": "code",
      "execution_count": 75,
      "metadata": {
        "id": "P4vPIuCsOZ7j"
      },
      "outputs": [],
      "source": [
        "import numpy as np\n",
        "import matplotlib.pyplot as plt\n",
        "import zipfile\n",
        "try:\n",
        "  import google.colab\n",
        "except ImportError:\n",
        "  from dolfin import *\n",
        "else:\n",
        "  try:\n",
        "    from dolfin import *\n",
        "  except ImportError:\n",
        "    !wget \"https://fem-on-colab.github.io/releases/fenics-install.sh\" -O \"/tmp/fenics-install.sh\" && bash \"/tmp/fenics-install.sh\"\n",
        "    from dolfin import *\n",
        "%matplotlib inline"
      ]
    },
    {
      "cell_type": "code",
      "source": [
        "# 1. Read the mesh for this problem\n",
        "\n",
        "!wget \"https://github.com/niravshah241/transient_heat_conduction_LSTM_PINN/archive/refs/heads/main.zip\" -O \"/tmp/github_files.zip\"\n",
        "\n",
        "zip_ref = zipfile.ZipFile(\"/tmp/github_files.zip\", 'r')\n",
        "zip_ref.extractall(\"/tmp\")\n",
        "zip_ref.close()\n",
        "\n",
        "mesh = Mesh(\"/tmp/transient_heat_conduction_LSTM_PINN-main/mesh_data/mesh.xml\")\n",
        "subdomains = MeshFunction(\"size_t\", mesh, \"/tmp/transient_heat_conduction_LSTM_PINN-main/mesh_data/mesh_physical_region.xml\")\n",
        "boundaries = MeshFunction(\"size_t\", mesh, \"/tmp/transient_heat_conduction_LSTM_PINN-main/mesh_data/mesh_facet_region.xml\")\n",
        "\n",
        "dx = Measure(\"dx\")(subdomain_data=subdomains)\n",
        "ds = Measure(\"ds\")(subdomain_data=boundaries)\n",
        "ds_sym = ds(2) + ds(3) + ds(6)\n",
        "ds_bottom = ds(1)\n",
        "ds_sf = ds(5) + ds(7) + ds(8) + ds(9) + ds(10)\n",
        "ds_top = ds(4) + ds(11) + ds(12) + ds(13) + ds(14)\n",
        "ds_out = ds(15)\n",
        "dx_cc1 = dx(1) \n",
        "dx_cc2 = dx(2)\n",
        "dx_cc2_upper = dx(4)\n",
        "dx_bb_surround = dx(3)\n",
        "dx_cc = dx(6)\n",
        "dx_cb = dx(5)\n",
        "dx_ss = dx(7)\n",
        "\n",
        "# Time scale\n",
        "t_max = 2.\n",
        "num_steps = 100\n",
        "dt = t_max/num_steps"
      ],
      "metadata": {
        "id": "EPryuk8qQ5N8"
      },
      "execution_count": null,
      "outputs": []
    },
    {
      "cell_type": "code",
      "source": [
        "# 2A. Create Finite Element space (Lagrange P1)\n",
        "VT = FunctionSpace(mesh,\"CG\",1)\n",
        "T_, psi = TrialFunction(VT), TestFunction(VT)\n",
        "T = Function(VT,name=\"Temperature\")\n",
        "T_previous = interpolate(Constant(300.),VT)\n",
        "\n",
        "if VT.ufl_element().degree() == 1:\n",
        "  VQ = VectorFunctionSpace(mesh,\"CG\",VT.ufl_element().degree()) # Space for heat flux\n",
        "else:\n",
        "  VQ = VectorFunctionSpace(mesh,\"CG\",VT.ufl_element().degree()-1) # Space for heat flux\n",
        "q_, psi_q = TrialFunction(VQ), TestFunction(VQ)\n",
        "q = Function(VQ,name=\"Heat flux\") # Heat flux at current time step\n",
        "\n",
        "#x0 = Expression(\"x[0]\",element=VT.ufl_element())\n",
        "#x1 = Expression(\"x[1]\",element=VT.ufl_element())"
      ],
      "metadata": {
        "id": "rRt2engYorTB"
      },
      "execution_count": 77,
      "outputs": []
    },
    {
      "cell_type": "code",
      "source": [
        "# 3. Material and boundary properties, Source term\n",
        "\n",
        "k_cc1, k_cc2, k_cc2_upper, k_bb_surround, k_cb, k_ss, k_cc = 10., 10., 10., 10., 10., 10., 10.#15.5, 39.5, 39.5, 20.2, 5.5, 48., 6. #as_tensor([[7.,0],[0,5.]]) # Thermal conductivities \n",
        "rho_cc1, rho_cc2, rho_cc2_upper, rho_bb_surround, rho_cb, rho_ss, rho_cc = 1., 1., 1., 1., 1., 1., 1.#3520.0e-2, 3200.0e-2, 3200.0e-2, 2800.0e-2, 1760.0e-2, 7900.0e-2, 2080.0e-2 # Material densities\n",
        "heat_capacity_cc1, heat_capacity_cc2, heat_capacity_cc2_upper, heat_capacity_bb_surround, heat_capacity_cb, heat_capacity_ss, heat_capacity_cc \\\n",
        "= 1., 1., 1., 1., 1., 1., 1. #744.2e-2, 683.4e-2, 683.4e-2, 705.9e-2, 342.7e-2, 466.0e-2, 342.7e-2 # Heat capacities\n",
        "h_sf, h_out, h_bottom = 100., 50., 50. # Convection coefficients\n",
        "T_left = Expression(\"300.+600.*t\", degree=2, t=0.) # Temperature on left boundary at current time step\n",
        "T_left_previous = interpolate(T_left,VT) # Temperature on left boundary at previous time step\n",
        "T_right = Expression(\"300.+0*t\",degree=2,t=0) # Temperature on right boundary at current time step\n",
        "T_right_previous = Expression(\"300.+0*t\",degree=2,t=0) # Temperature on right boundary at previous time step\n",
        "T_bottom = Expression(\"300.+0*t\",degree=2,t=0) # Temperature on bottom boundary at current time step\n",
        "T_bottom_previous = Expression(\"300.+0*t\",degree=2,t=0) # Temperature on bottom boundary at previous time step\n",
        "Q = Expression(\"0*t\", degree=2, t=0.) # Source term at current time step\n",
        "Q_previous = interpolate(Q,VT) # Source term at previous time step"
      ],
      "metadata": {
        "id": "GT8-pZ7doujp"
      },
      "execution_count": 78,
      "outputs": []
    },
    {
      "cell_type": "code",
      "source": [
        "# 4. Compute heat flux\n",
        "\n",
        "def compute_heat_flux(temp_field):\n",
        "  '''\n",
        "  Compute the heat flux at given temperature field\n",
        "  Input:\n",
        "  temp_field: Function over Functionspace\n",
        "  Output:\n",
        "  q: Function over VectorFunctionSpace\n",
        "  '''\n",
        "  a_q = inner(q_, psi_q) * dx_cc1 + inner(q_, psi_q) * dx_cc2 + inner(q_, psi_q) * dx_cc2_upper + inner(q_, psi_q) * dx_bb_surround + inner(q_, psi_q) * dx_cb \\\n",
        "  + inner(q_, psi_q) * dx_ss + inner(q_, psi_q) * dx_cc\n",
        "  l_q = inner(-k_cc1 * grad(temp_field), psi_q) * dx_cc1 + inner(-k_cc2 * grad(temp_field), psi_q) * dx_cc2 + inner(-k_cc2_upper * grad(temp_field), psi_q) * dx_cc2_upper + \\\n",
        "  inner(-k_bb_surround * grad(temp_field), psi_q) * dx_bb_surround + inner(-k_cb * grad(temp_field), psi_q) * dx_cb + inner(-k_ss * grad(temp_field), psi_q) * dx_ss + \\\n",
        "  inner(-k_cc * grad(temp_field), psi_q) * dx_cc\n",
        "  solve(a_q == l_q, q)\n",
        "  return q"
      ],
      "metadata": {
        "id": "bUG_Xl5cKCV7"
      },
      "execution_count": 79,
      "outputs": []
    },
    {
      "cell_type": "code",
      "source": [
        "# 5. Weak formulation with generalised-$\\theta$ method in time\n",
        "\n",
        "theta = Constant(1.) # theta=0 means forward difference and theta=1 means backward difference\n",
        "\n",
        "F_T = \\\n",
        "psi * rho_cc1 * heat_capacity_cc1 * T_ * dx_cc1 + psi * rho_cc2 * heat_capacity_cc2 * T_ * dx_cc2 + psi * rho_cc2_upper * heat_capacity_cc2_upper * T_ * dx_cc2_upper + \\\n",
        "psi * rho_bb_surround * heat_capacity_bb_surround * T_ * dx_bb_surround + psi * rho_cb * heat_capacity_cb * T_ * dx_cb + psi * rho_ss * heat_capacity_ss * T_ * dx_ss + \\\n",
        "psi * rho_cc * heat_capacity_cc * T_ * dx_cc - \\\n",
        "psi * rho_cc1 * heat_capacity_cc1 * T_previous * dx_cc1 - psi * rho_cc2 * heat_capacity_cc2 * T_previous * dx_cc2 - psi * rho_cc2_upper * heat_capacity_cc2_upper * T_previous * dx_cc2_upper - \\\n",
        "psi * rho_bb_surround * heat_capacity_bb_surround * T_previous * dx_bb_surround - psi * rho_cb * heat_capacity_cb * T_previous * dx_cb - \\\n",
        "psi * rho_ss * heat_capacity_ss * T_previous * dx_ss - psi * rho_cc * heat_capacity_cc * T_previous * dx_cc\n",
        "\n",
        "F_T_backward = \\\n",
        "dt * inner(k_cc1 * grad(T_), grad(psi)) * dx_cc1 + dt * inner(k_cc2 * grad(T_), grad(psi)) * dx_cc2 + dt * inner(k_cc2_upper * grad(T_), grad(psi)) * dx_cc2_upper + \\\n",
        "dt * inner(k_bb_surround * grad(T_), grad(psi)) * dx_bb_surround + dt * inner(k_cb * grad(T_), grad(psi)) * dx_cb + dt * inner(k_ss * grad(T_), grad(psi)) * dx_ss + \\\n",
        "dt * inner(k_cc * grad(T_), grad(psi)) * dx_cc + \\\n",
        "dt * psi * h_sf * (T_ - T_left) * ds_sf + dt * psi * h_out * (T_ - T_right) * ds_out + dt * psi * h_bottom * (T_ - T_bottom) * ds_bottom - \\\n",
        "psi * dt * Q * dx\n",
        "\n",
        "F_T_forward = \\\n",
        "dt * inner(k_cc1 * grad(T_previous), grad(psi)) * dx_cc1 + dt * inner(k_cc2 * grad(T_previous), grad(psi)) * dx_cc2 + dt * inner(k_cc2_upper * grad(T_previous), grad(psi)) * dx_cc2_upper + \\\n",
        "dt * inner(k_bb_surround * grad(T_previous), grad(psi)) * dx_bb_surround + dt * inner(k_cb * grad(T_previous), grad(psi)) * dx_cb + dt * inner(k_ss * grad(T_previous), grad(psi)) * dx_ss + \\\n",
        "dt * inner(k_cc * grad(T_previous), grad(psi)) * dx_cc + \\\n",
        "dt * psi * h_sf * (T_previous - T_left_previous) * ds_sf + dt * psi * h_out * (T_previous - T_right_previous) * ds_out + dt * psi * h_bottom * (T_previous - T_bottom_previous) * ds_bottom - \\\n",
        "psi * dt * Q_previous * dx\n",
        "\n",
        "a_T = lhs(F_T + theta * F_T_backward + (1 - theta) * F_T_forward)\n",
        "l_T = rhs(F_T + theta * F_T_backward + (1 - theta) * F_T_forward)\n",
        "\n",
        "#Solution of system of equations\n",
        "t = 0.\n",
        "xdmf_file = XDMFFile(\"/tmp/transient_heat_conduction_LSTM_PINN-main/solution_field/thermal_results.xdmf\") #Path to save output files in google drive\n",
        "xdmf_file.parameters[\"flush_output\"] = True\n",
        "xdmf_file.parameters[\"functions_share_mesh\"] = True\n",
        "xdmf_file.parameters[\"rewrite_function_mesh\"] = False\n",
        "xdmf_file.write(T_previous,0)\n",
        "xdmf_file.write(compute_heat_flux(T_previous),0)\n",
        "\n",
        "for i in range(num_steps):\n",
        "  T_left_previous.t = t\n",
        "  T_right_previous.t = t\n",
        "  T_bottom_previous.t = t\n",
        "  Q_previous.t = t\n",
        "  t += dt\n",
        "  T_left.t = t\n",
        "  T_right.t = t\n",
        "  T_bottom.t = t\n",
        "  Q.t = t\n",
        "  solve(a_T == l_T, T)\n",
        "  q = compute_heat_flux(T)\n",
        "  xdmf_file.write(T,t)\n",
        "  xdmf_file.write(q,t)\n",
        "  T_previous.assign(T)\n",
        "\n",
        "plot(T)\n",
        "plt.show()"
      ],
      "metadata": {
        "id": "qptu9KQNLLPN"
      },
      "execution_count": null,
      "outputs": []
    }
  ]
}