{
  "nbformat": 4,
  "nbformat_minor": 0,
  "metadata": {
    "colab": {
      "name": "unsteady_heat_conduction.ipynb",
      "provenance": [],
      "collapsed_sections": []
    },
    "kernelspec": {
      "name": "python3",
      "display_name": "Python 3"
    },
    "language_info": {
      "name": "python"
    },
    "gpuClass": "standard"
  },
  "cells": [
    {
      "cell_type": "code",
      "execution_count": 82,
      "metadata": {
        "id": "P4vPIuCsOZ7j"
      },
      "outputs": [],
      "source": [
        "import numpy as np\n",
        "import matplotlib.pyplot as plt\n",
        "import zipfile\n",
        "try:\n",
        "  import google.colab\n",
        "except ImportError:\n",
        "  from dolfin import *\n",
        "else:\n",
        "  try:\n",
        "    from dolfin import *\n",
        "  except ImportError:\n",
        "    !wget \"https://fem-on-colab.github.io/releases/fenics-install.sh\" -O \"/tmp/fenics-install.sh\" && bash \"/tmp/fenics-install.sh\"\n",
        "    from dolfin import *\n",
        "%matplotlib inline"
      ]
    },
    {
      "cell_type": "code",
      "source": [
        "# 1. Read the mesh for this problem\n",
        "\n",
        "!wget \"https://github.com/niravshah241/transient_heat_conduction_LSTM_PINN/archive/refs/heads/main.zip\" -O \"/tmp/github_files.zip\"\n",
        "\n",
        "zip_ref = zipfile.ZipFile(\"/tmp/github_files.zip\", 'r')\n",
        "zip_ref.extractall(\"/tmp\")\n",
        "zip_ref.close()\n",
        "\n",
        "mesh = Mesh(\"/tmp/transient_heat_conduction_LSTM_PINN-main/mesh_data/mesh.xml\")\n",
        "subdomains = MeshFunction(\"size_t\", mesh, \"/tmp/transient_heat_conduction_LSTM_PINN-main/mesh_data/mesh_physical_region.xml\")\n",
        "boundaries = MeshFunction(\"size_t\", mesh, \"/tmp/transient_heat_conduction_LSTM_PINN-main/mesh_data/mesh_facet_region.xml\")\n"
      ],
      "metadata": {
        "id": "EPryuk8qQ5N8",
        "colab": {
          "base_uri": "https://localhost:8080/"
        },
        "outputId": "7872869a-9b5b-4593-88e7-fac0c1381fbe"
      },
      "execution_count": 83,
      "outputs": [
        {
          "output_type": "stream",
          "name": "stdout",
          "text": [
            "--2022-08-03 14:38:41--  https://github.com/niravshah241/transient_heat_conduction_LSTM_PINN/archive/refs/heads/main.zip\n",
            "Resolving github.com (github.com)... 140.82.113.4\n",
            "Connecting to github.com (github.com)|140.82.113.4|:443... connected.\n",
            "HTTP request sent, awaiting response... 302 Found\n",
            "Location: https://codeload.github.com/niravshah241/transient_heat_conduction_LSTM_PINN/zip/refs/heads/main [following]\n",
            "--2022-08-03 14:38:41--  https://codeload.github.com/niravshah241/transient_heat_conduction_LSTM_PINN/zip/refs/heads/main\n",
            "Resolving codeload.github.com (codeload.github.com)... 140.82.112.10\n",
            "Connecting to codeload.github.com (codeload.github.com)|140.82.112.10|:443... connected.\n",
            "HTTP request sent, awaiting response... 200 OK\n",
            "Length: unspecified [application/zip]\n",
            "Saving to: ‘/tmp/github_files.zip’\n",
            "\n",
            "/tmp/github_files.z     [  <=>               ]   1.86M  6.92MB/s    in 0.3s    \n",
            "\n",
            "2022-08-03 14:38:42 (6.92 MB/s) - ‘/tmp/github_files.zip’ saved [1947612]\n",
            "\n"
          ]
        }
      ]
    },
    {
      "cell_type": "code",
      "source": [
        "# 2A. Create Finite Element space (Lagrange P1)\n",
        "VT = FunctionSpace(mesh,\"CG\",1)\n",
        "dx = Measure(\"dx\")(subdomain_data=subdomains)\n",
        "ds = Measure(\"ds\")(subdomain_data=boundaries)\n",
        "ds_sym = ds(2) + ds(3) + ds(6)\n",
        "ds_bottom = ds(1)\n",
        "ds_sf = ds(5) + ds(7) + ds(8) + ds(9) + ds(10)\n",
        "ds_top = ds(4) + ds(11) + ds(12) + ds(13) + ds(14)\n",
        "ds_out = ds(15)\n",
        "dx_cc1 = dx(1) \n",
        "dx_cc2 = dx(2)\n",
        "dx_cc2_upper = dx(4)\n",
        "dx_bb_surround = dx(3)\n",
        "dx_cc = dx(6)\n",
        "dx_cb = dx(5)\n",
        "dx_ss = dx(7)\n",
        "T_, psi = TrialFunction(VT), TestFunction(VT)\n",
        "T = Function(VT)"
      ],
      "metadata": {
        "id": "rRt2engYorTB"
      },
      "execution_count": 84,
      "outputs": []
    },
    {
      "cell_type": "code",
      "source": [
        "# Time scale\n",
        "t_max = 2.\n",
        "num_steps = 100\n",
        "dt = t_max/num_steps\n",
        "\n",
        "# Boundary and Source terms\n",
        "Q = Expression(\"0*t\", degree=2, t=0.) #Source term\n",
        "Q_previous = interpolate(Q,VT)\n",
        "T_left = Expression(\"300.+600.*t\", degree=2, t=0.)\n",
        "T_right = T_bottom = Constant(300.)\n",
        "\n",
        "#Thermal conductivityies\n",
        "k_cc1 = 15.5\n",
        "k_cc2 = k_cc2_upper = 39.5\n",
        "k_bb_surround = 20.2\n",
        "k_cb = 5.5\n",
        "k_ss = 48.\n",
        "k_cc = 6. #as_tensor([[7.,0],[0,5.]])\n",
        "\n",
        "#Material densities\n",
        "rho_cc1 = 3520.0e-2\n",
        "rho_cc2 = rho_cc2_upper = 3200.0e-2\n",
        "rho_bb_surround = 2800.0e-2\n",
        "rho_cb = 1760.0e-2\n",
        "rho_ss = 7900.0e-2\n",
        "rho_cc = 2080.0e-2\n",
        "\n",
        "#Heat capacities\n",
        "c_cc1 = 744.2e-2\n",
        "c_cc2 = c_cc2_upper = 683.4e-2 \n",
        "c_bb_surround = 705.9e-2\n",
        "c_cb = 342.7e-2\n",
        "c_ss = 466.0e-2\n",
        "c_cc = 342.7e-2\n",
        "\n",
        "#Convection coefficients\n",
        "h_sf = 100.\n",
        "h_out = h_bottom = 50.\n",
        "\n",
        "#Boundary value\n",
        "#bcs = [DirichletBC(VT,T_left,boundaries,5),DirichletBC(VT,T_left,boundaries,7),DirichletBC(VT,T_left,boundaries,8),DirichletBC(VT,T_left,boundaries,9),DirichletBC(VT,T_left,boundaries,10),\\\n",
        "#       DirichletBC(VT,T_right,boundaries,15),DirichletBC(VT,T_right,boundaries,1)]\n",
        "\n",
        "#Intial value\n",
        "T_previous = interpolate(Constant(300.),VT)\n",
        "x0 = Expression(\"x[0]\",element=VT.ufl_element())\n",
        "x1 = Expression(\"x[1]\",element=VT.ufl_element())\n",
        "\n",
        "#Backward difference in time\n",
        "F_T = \\\n",
        "rho_cc1 * c_cc1 * inner(psi,T_) * dx_cc1 + rho_cc2 * c_cc2 * inner(psi,T_) * dx_cc2 + rho_bb_surround * c_bb_surround * inner(psi,T_) * dx_bb_surround + \\\n",
        "rho_cc2_upper * c_cc2_upper * inner(psi,T_) * dx_cc2_upper + rho_cb * c_cb * inner(psi,T_) * dx_cb + rho_ss * c_ss * inner(psi,T_) * dx_ss + rho_cc * c_cc * inner(psi,T_) * dx_cc - \\\n",
        "rho_cc1 * c_cc1 * inner(psi,T_previous) * dx_cc1 - rho_cc2 * c_cc2 * inner(psi,T_previous) * dx_cc2 - rho_bb_surround * c_bb_surround * inner(psi,T_previous) * dx_bb_surround - \\\n",
        "rho_cc2_upper * c_cc2_upper * inner(psi,T_previous) * dx_cc2_upper - rho_cb * c_cb * inner(psi,T_previous) * dx_cb - rho_ss * c_ss * inner(psi,T_previous) * dx_ss - \\\n",
        "rho_cc * c_cc * inner(psi,T_previous) * dx_cc + k_cc1 * inner(grad(T_),grad(psi)) * dx_cc1 + k_cc2 * inner(grad(T_),grad(psi)) * dx_cc2 + \\\n",
        "k_bb_surround * inner(grad(T_),grad(psi)) * dx_bb_surround + k_cc2_upper * inner(grad(T_),grad(psi)) * dx_cc2_upper + k_cb * inner(grad(T_),grad(psi)) * dx_cb + \\\n",
        "k_ss * inner(grad(T_),grad(psi)) * dx_ss + k_cc * inner(grad(T_),grad(psi)) * dx_cc + \\\n",
        "h_sf * inner(psi,T_) * ds_sf + h_bottom * inner(psi,T_) * ds_bottom + h_out * inner(psi,T_) * ds_out - \\\n",
        "h_sf * inner(psi,T_left) * ds_sf - h_bottom * inner(psi,T_bottom) * ds_bottom - h_out * inner(psi,T_right) * ds_out - \\\n",
        "inner(psi,Q) * dx\n",
        "\n",
        "a_T = lhs(F_T)\n",
        "l_T = rhs(F_T)\n",
        "\n",
        "eigvals, _ = np.linalg.eig(assemble(a_T).array())\n",
        "\n",
        "#Solution of system of equations\n",
        "t = 0.\n",
        "xdmf_file = XDMFFile(\"/tmp/transient_heat_conduction_LSTM_PINN-main/solution_field/thermal_results.xdmf\") #Path to save output files in google drive\n",
        "xdmf_file.parameters[\"flush_output\"] = True\n",
        "xdmf_file.parameters[\"functions_share_mesh\"] = True\n",
        "xdmf_file.parameters[\"rewrite_function_mesh\"] = False\n",
        "xdmf_file.write(T_previous,0)\n",
        "\n",
        "for i in range(num_steps):\n",
        "\t t += dt\n",
        "\t T_left.t = t\n",
        "\t T_right.t = t\n",
        "\t Q.t = t\n",
        "\t solve(a_T == l_T, T)\n",
        "\t xdmf_file.write(T,t)\n",
        "\t T_previous.assign(T) \n",
        "\n",
        "plot(T)\n",
        "\n",
        "print(max(abs(eigvals)))\n",
        "print(min(eigvals))\n",
        "print(max(abs(eigvals))/min(abs(eigvals)))\n",
        "print(np.linalg.cond(assemble(a_T).array()))"
      ],
      "metadata": {
        "id": "GT8-pZ7doujp",
        "colab": {
          "base_uri": "https://localhost:8080/",
          "height": 334
        },
        "outputId": "09139fec-e26a-4b4a-b698-b4f23ecd3720"
      },
      "execution_count": 85,
      "outputs": [
        {
          "output_type": "stream",
          "name": "stdout",
          "text": [
            "346.293922241477\n",
            "0.7657019931398242\n",
            "452.25678572608933\n",
            "452.25678572601095\n"
          ]
        },
        {
          "output_type": "display_data",
          "data": {
            "text/plain": [
              "<Figure size 432x288 with 1 Axes>"
            ],
            "image/png": "[encoded data removed]"
          },
          "metadata": {
            "needs_background": "light"
          }
        }
      ]
    }
  ]
}