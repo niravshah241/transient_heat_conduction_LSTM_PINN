{
  "nbformat": 4,
  "nbformat_minor": 0,
  "metadata": {
    "colab": {
      "name": "unsteady_heat_conduction.ipynb",
      "provenance": [],
      "collapsed_sections": []
    },
    "kernelspec": {
      "name": "python3",
      "display_name": "Python 3"
    },
    "language_info": {
      "name": "python"
    }
  },
  "cells": [
    {
      "cell_type": "code",
      "execution_count": null,
      "metadata": {
        "id": "P4vPIuCsOZ7j"
      },
      "outputs": [],
      "source": [
        "import numpy as np\n",
        "import matplotlib.pyplot as plt\n",
        "try:\n",
        "  import google.colab\n",
        "except ImportError:\n",
        "  from dolfin import *\n",
        "else:\n",
        "  try:\n",
        "    from dolfin import *\n",
        "  except ImportError:\n",
        "    !wget \"https://fem-on-colab.github.io/releases/fenics-install.sh\" -O \"/tmp/fenics-install.sh\" && bash \"/tmp/fenics-install.sh\"\n",
        "    from dolfin import *\n",
        "%matplotlib inline"
      ]
    },
    {
      "cell_type": "code",
      "source": [
        "# 1. Read the mesh for this problem\n",
        "from google.colab import drive\n",
        "drive.mount('/content/drive')\n",
        "\n",
        "mesh = Mesh(\"/content/drive/My Drive/Colab Notebooks/mesh_data/mesh.xml\")\n",
        "print(mesh.num_vertices())\n",
        "dfbg\n",
        "subdomains = MeshFunction(\"size_t\", mesh, \"/content/drive/My Drive/Colab Notebooks/mesh_data/mesh_physical_region.xml\")\n",
        "boundaries = MeshFunction(\"size_t\", mesh, \"/content/drive/My Drive/Colab Notebooks/mesh_data/mesh_facet_region.xml\")\n"
      ],
      "metadata": {
        "colab": {
          "base_uri": "https://localhost:8080/",
          "height": 270
        },
        "id": "EPryuk8qQ5N8",
        "outputId": "4656774d-bba0-498e-f474-8fa0a1e6bb71"
      },
      "execution_count": 2,
      "outputs": [
        {
          "output_type": "stream",
          "name": "stdout",
          "text": [
            "Mounted at /content/drive\n",
            "3764\n"
          ]
        },
        {
          "output_type": "error",
          "ename": "NameError",
          "evalue": "ignored",
          "traceback": [
            "\u001b[0;31m---------------------------------------------------------------------------\u001b[0m",
            "\u001b[0;31mNameError\u001b[0m                                 Traceback (most recent call last)",
            "\u001b[0;32m<ipython-input-2-359aac0bd4e0>\u001b[0m in \u001b[0;36m<module>\u001b[0;34m()\u001b[0m\n\u001b[1;32m      5\u001b[0m \u001b[0mmesh\u001b[0m \u001b[0;34m=\u001b[0m \u001b[0mMesh\u001b[0m\u001b[0;34m(\u001b[0m\u001b[0;34m\"/content/drive/My Drive/Colab Notebooks/mesh_data/mesh.xml\"\u001b[0m\u001b[0;34m)\u001b[0m\u001b[0;34m\u001b[0m\u001b[0;34m\u001b[0m\u001b[0m\n\u001b[1;32m      6\u001b[0m \u001b[0mprint\u001b[0m\u001b[0;34m(\u001b[0m\u001b[0mmesh\u001b[0m\u001b[0;34m.\u001b[0m\u001b[0mnum_vertices\u001b[0m\u001b[0;34m(\u001b[0m\u001b[0;34m)\u001b[0m\u001b[0;34m)\u001b[0m\u001b[0;34m\u001b[0m\u001b[0;34m\u001b[0m\u001b[0m\n\u001b[0;32m----> 7\u001b[0;31m \u001b[0mdfbg\u001b[0m\u001b[0;34m\u001b[0m\u001b[0;34m\u001b[0m\u001b[0m\n\u001b[0m\u001b[1;32m      8\u001b[0m \u001b[0msubdomains\u001b[0m \u001b[0;34m=\u001b[0m \u001b[0mMeshFunction\u001b[0m\u001b[0;34m(\u001b[0m\u001b[0;34m\"size_t\"\u001b[0m\u001b[0;34m,\u001b[0m \u001b[0mmesh\u001b[0m\u001b[0;34m,\u001b[0m \u001b[0;34m\"/content/drive/My Drive/Colab Notebooks/mesh_data/mesh_physical_region.xml\"\u001b[0m\u001b[0;34m)\u001b[0m\u001b[0;34m\u001b[0m\u001b[0;34m\u001b[0m\u001b[0m\n\u001b[1;32m      9\u001b[0m \u001b[0mboundaries\u001b[0m \u001b[0;34m=\u001b[0m \u001b[0mMeshFunction\u001b[0m\u001b[0;34m(\u001b[0m\u001b[0;34m\"size_t\"\u001b[0m\u001b[0;34m,\u001b[0m \u001b[0mmesh\u001b[0m\u001b[0;34m,\u001b[0m \u001b[0;34m\"/content/drive/My Drive/Colab Notebooks/mesh_data/mesh_facet_region.xml\"\u001b[0m\u001b[0;34m)\u001b[0m\u001b[0;34m\u001b[0m\u001b[0;34m\u001b[0m\u001b[0m\n",
            "\u001b[0;31mNameError\u001b[0m: name 'dfbg' is not defined"
          ]
        }
      ]
    },
    {
      "cell_type": "code",
      "source": [
        "# 2A. Create Finite Element space (Lagrange P1)\n",
        "VT = FunctionSpace(mesh,\"CG\",1)\n",
        "dx = Measure(\"dx\")(subdomain_data=subdomains)\n",
        "ds = Measure(\"ds\")(subdomain_data=boundaries)\n",
        "ds_sym = ds(2) + ds(3) + ds(6)\n",
        "ds_bottom = ds(1)\n",
        "ds_sf = ds(5) + ds(7) + ds(8) + ds(9) + ds(10)\n",
        "ds_top = ds(4) + ds(11) + ds(12) + ds(13) + ds(14)\n",
        "ds_out = ds(15)\n",
        "dx_cc1 = dx(1) \n",
        "dx_cc2 = dx(2)\n",
        "dx_cc2_upper = dx(4)\n",
        "dx_bb_surround = dx(3)\n",
        "dx_cc = dx(6)\n",
        "dx_cb = dx(5)\n",
        "dx_ss = dx(7)\n",
        "T_, psi = TrialFunction(VT), TestFunction(VT)\n",
        "T = Function(VT)"
      ],
      "metadata": {
        "id": "rRt2engYorTB"
      },
      "execution_count": null,
      "outputs": []
    },
    {
      "cell_type": "code",
      "source": [
        "Q = Constant(0.) #Source term\n",
        "T_left = Expression(\"300.+600.*t\", degree=2, t=0.)\n",
        "T_right = Constant(300.)\n",
        "\n",
        "#Thermal conductivity in two subdomains\n",
        "k_cc1 = 15.5\n",
        "k_cc2 = k_cc2_upper = 39.5\n",
        "k_bb_surround = 20.2\n",
        "k_cb = 5.5\n",
        "k_ss = 48.\n",
        "k_cc = as_tensor([[7.,0],[0,5.]])\n",
        "\n",
        "t_max = 2.\n",
        "num_steps = 50\n",
        "dt = t_max/num_steps\n",
        "\n",
        "#Boundary value\n",
        "bcs = [DirichletBC(VT,T_left,boundaries,5),DirichletBC(VT,T_left,boundaries,7),DirichletBC(VT,T_left,boundaries,8),DirichletBC(VT,T_left,boundaries,9),DirichletBC(VT,T_left,boundaries,10),\\\n",
        "       DirichletBC(VT,T_right,boundaries,15),DirichletBC(VT,T_right,boundaries,1)]\n",
        "\n",
        "#Intial value\n",
        "T_previous = interpolate(Constant(300.),VT)\n",
        "x0 = Expression(\"x[0]\",element=VT.ufl_element())\n",
        "x1 = Expression(\"x[1]\",element=VT.ufl_element())\n",
        "\n",
        "F_T = inner(psi,T_)*dx + dt * inner(k_cc1*grad(T_),grad(psi)) * dx_cc1 + dt * inner(k_cc2*grad(T_),grad(psi)) * dx_cc2 + dt * inner(k_cc2_upper*grad(T_),grad(psi)) * dx_cc2_upper + dt * inner(k_bb_surround*grad(T_),grad(psi)) * dx_bb_surround + dt * inner(k_cb*grad(T_),grad(psi)) * dx_cb + dt * inner(k_ss*grad(T_),grad(psi)) * dx_ss + dt * inner(k_cc*grad(T_),grad(psi)) * dx_cc - inner(T_previous,psi) * dx - dt * inner(Q,psi) * dx\n",
        "a_T = lhs(F_T)\n",
        "l_T = rhs(F_T)\n",
        "\n",
        "VQ = VectorFunctionSpace(mesh,\"CG\",1)\n",
        "q_, psi_q = TrialFunction(VQ), TestFunction(VQ)\n",
        "q_previous = interpolate(Constant((0.,0.)),VQ)\n",
        "q = Function(VQ)\n",
        "\n",
        "#Time implicit scheme\n",
        "t = 0.\n",
        "\n",
        "xdmf_file = XDMFFile(\"/content/drive/My Drive/Colab Notebooks/solution_field/thermal_results.xdmf\")\n",
        "xdmf_file.parameters[\"flush_output\"] = True\n",
        "xdmf_file.parameters[\"functions_share_mesh\"] = True\n",
        "xdmf_file.parameters[\"rewrite_function_mesh\"] = False\n",
        "xdmf_file.write(T_previous,0)\n",
        "\n",
        "for i in range(num_steps):\n",
        "\t t += dt\n",
        "\t T_left.t = t\n",
        "\t T_right.t = t\n",
        "\t solve(a_T == l_T, T, bcs)\n",
        "\t xdmf_file.write(T,t)\n",
        "\t T_previous.assign(T)\n",
        "\n",
        "plot(T)"
      ],
      "metadata": {
        "id": "GT8-pZ7doujp"
      },
      "execution_count": null,
      "outputs": []
    }
  ]
}