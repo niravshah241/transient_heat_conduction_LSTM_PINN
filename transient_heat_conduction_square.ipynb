{
  "nbformat": 4,
  "nbformat_minor": 0,
  "metadata": {
    "colab": {
      "name": "transient_heat_conduction_square.ipynb",
      "provenance": [],
      "collapsed_sections": []
    },
    "kernelspec": {
      "name": "python3",
      "display_name": "Python 3"
    },
    "language_info": {
      "name": "python"
    }
  },
  "cells": [
    {
      "cell_type": "code",
      "execution_count": 241,
      "metadata": {
        "id": "oaLvdJzkJhb3"
      },
      "outputs": [],
      "source": [
        "import numpy as np\n",
        "import matplotlib.pyplot as plt\n",
        "import zipfile\n",
        "try:\n",
        "  import google.colab\n",
        "except ImportError:\n",
        "  from dolfin import *\n",
        "else:\n",
        "  try:\n",
        "    from dolfin import *\n",
        "  except ImportError:\n",
        "    !wget \"https://fem-on-colab.github.io/releases/fenics-install.sh\" -O \"/tmp/fenics-install.sh\" && bash \"/tmp/fenics-install.sh\"\n",
        "    from dolfin import *\n",
        "%matplotlib inline"
      ]
    },
    {
      "cell_type": "code",
      "source": [
        "# 1. Time and space discretisation \n",
        "# Space discretisation: Read the mesh for this problem\n",
        "\n",
        "!wget \"https://github.com/niravshah241/transient_heat_conduction_LSTM_PINN/archive/refs/heads/main.zip\" -O \"/tmp/github_files.zip\"\n",
        "\n",
        "zip_ref = zipfile.ZipFile(\"/tmp/github_files.zip\", 'r')\n",
        "zip_ref.extractall(\"/tmp\")\n",
        "zip_ref.close()\n",
        "\n",
        "mesh = Mesh(\"/tmp/transient_heat_conduction_LSTM_PINN-main/mesh_data_square/mesh.xml\")\n",
        "subdomains = MeshFunction(\"size_t\", mesh, \"/tmp/transient_heat_conduction_LSTM_PINN-main/mesh_data_square/mesh_physical_region.xml\")\n",
        "boundaries = MeshFunction(\"size_t\", mesh, \"/tmp/transient_heat_conduction_LSTM_PINN-main/mesh_data_square/mesh_facet_region.xml\")\n",
        "\n",
        "dx = Measure(\"dx\")(subdomain_data=subdomains)\n",
        "ds = Measure(\"ds\")(subdomain_data=boundaries)\n",
        "\n",
        "dx_left = dx(1) #Subdomain 1\n",
        "dx_right = dx(2) #Subdomain 2\n",
        "\n",
        "ds_left = ds(1) #Left boundary\n",
        "ds_left_bottom = ds(2) #Left bottom boundary\n",
        "ds_right_bottom = ds(3) #Right bottom boundary\n",
        "ds_right = ds(4) #Right boundary\n",
        "ds_right_top = ds(5) #Right top boundary\n",
        "ds_left_top = ds(6) #Left top boundary\n",
        "\n",
        "# Time discretisation\n",
        "t_max = 2.\n",
        "num_steps = 100\n",
        "dt = t_max/num_steps"
      ],
      "metadata": {
        "colab": {
          "base_uri": "https://localhost:8080/"
        },
        "id": "2_hma-VeJu1k",
        "outputId": "71577724-1f10-4520-f5ff-bd60e7a578f9"
      },
      "execution_count": 242,
      "outputs": [
        {
          "output_type": "stream",
          "name": "stdout",
          "text": [
            "--2022-08-21 01:15:25--  https://github.com/niravshah241/transient_heat_conduction_LSTM_PINN/archive/refs/heads/main.zip\n",
            "Resolving github.com (github.com)... 140.82.114.3\n",
            "Connecting to github.com (github.com)|140.82.114.3|:443... connected.\n",
            "HTTP request sent, awaiting response... 302 Found\n",
            "Location: https://codeload.github.com/niravshah241/transient_heat_conduction_LSTM_PINN/zip/refs/heads/main [following]\n",
            "--2022-08-21 01:15:26--  https://codeload.github.com/niravshah241/transient_heat_conduction_LSTM_PINN/zip/refs/heads/main\n",
            "Resolving codeload.github.com (codeload.github.com)... 140.82.113.9\n",
            "Connecting to codeload.github.com (codeload.github.com)|140.82.113.9|:443... connected.\n",
            "HTTP request sent, awaiting response... 200 OK\n",
            "Length: unspecified [application/zip]\n",
            "Saving to: ‘/tmp/github_files.zip’\n",
            "\n",
            "/tmp/github_files.z     [   <=>              ]   3.01M  4.80MB/s    in 0.6s    \n",
            "\n",
            "2022-08-21 01:15:26 (4.80 MB/s) - ‘/tmp/github_files.zip’ saved [3155024]\n",
            "\n"
          ]
        }
      ]
    },
    {
      "cell_type": "code",
      "source": [
        "# 2. Create Finite Element space (Lagrange P1)\n",
        "VT = FunctionSpace(mesh,\"CG\",1) # Space for temperature field\n",
        "T_, psi = TrialFunction(VT), TestFunction(VT)\n",
        "T = Function(VT,name=\"Temperature\") # Temperature field at current time step\n",
        "T_previous = interpolate(Constant(300.),VT) # Temperature field at previous time step\n",
        "\n",
        "if VT.ufl_element().degree() == 1:\n",
        "  VQ = VectorFunctionSpace(mesh,\"CG\",VT.ufl_element().degree()) # Space for heat flux\n",
        "else:\n",
        "  VQ = VectorFunctionSpace(mesh,\"CG\",VT.ufl_element().degree()-1) # Space for heat flux\n",
        "q_, psi_q = TrialFunction(VQ), TestFunction(VQ)\n",
        "q = Function(VQ,name=\"Heat flux\") # Heat flux at current time step"
      ],
      "metadata": {
        "id": "QXDcioI5MAXz"
      },
      "execution_count": 243,
      "outputs": []
    },
    {
      "cell_type": "code",
      "source": [
        "# 3. Material and boundary properties, Source term\n",
        "k_left, rho_left, heat_capacity_left = 500., 1., 3. # Thermal conductivity, density, heat capacity for subdomain 1\n",
        "k_right, rho_right, heat_capacity_right = 500., 1., 3. # Thermal conductivity, density, heat capacity for subdomain 2\n",
        "h_left = 100. # Convection coefficient on left boundary\n",
        "h_right = 50. # Convection coefficient on right boundary\n",
        "T_left = Expression(\"300.+600.*t\",degree=2,t=0) # Temperature on left boundary at current time step\n",
        "T_left_previous = Expression(\"300.+600.*t\",degree=2,t=0) # Temperature on left boundary at previous time step\n",
        "T_right = Expression(\"300.+0*t\",degree=2,t=0) # Temperature on right boundary at current time step\n",
        "T_right_previous = Expression(\"300.+0*t\",degree=2,t=0) # Temperature on right boundary at previous time step\n",
        "Q = Expression(\"0*t\",degree=1,t=0.) # Heat source at current time step\n",
        "Q_previous = Expression(\"0*t\",degree=1,t=0.) # Heat source at previous time step"
      ],
      "metadata": {
        "id": "As-wsPFqO8lz"
      },
      "execution_count": 244,
      "outputs": []
    },
    {
      "cell_type": "code",
      "source": [
        "# 4. Compute heat flux\n",
        "\n",
        "def compute_heat_flux(temp_field):\n",
        "  '''\n",
        "  Compute the heat flux at given temperature field\n",
        "  Input:\n",
        "  temp_field: Function over Functionspace\n",
        "  Output:\n",
        "  q: Function over VectorFunctionSpace\n",
        "  '''\n",
        "  a_q = inner(q_, psi_q) * dx_left + inner(q_, psi_q) * dx_right\n",
        "  l_q = inner(-k_left * grad(temp_field), psi_q) * dx_left + inner(-k_right * grad(temp_field), psi_q) * dx_right\n",
        "  solve(a_q == l_q, q)\n",
        "  return q"
      ],
      "metadata": {
        "id": "wgTLfKA62zO8"
      },
      "execution_count": 245,
      "outputs": []
    },
    {
      "cell_type": "code",
      "source": [
        "# 5. Weak formulation with generalised-$\\theta$ method in time\n",
        "theta = Constant(0.55) # theta=0 means forward difference and theta=1 means backward difference\n",
        "\n",
        "F_T = \\\n",
        "psi * rho_left * heat_capacity_left * T_ * dx_left + psi * rho_right * heat_capacity_right * T_ * dx_right - \\\n",
        "psi * rho_left * heat_capacity_left * T_previous * dx_left - psi * rho_right * heat_capacity_right * T_previous * dx_right\n",
        "\n",
        "F_T_backward = \\\n",
        "dt * inner(k_left * grad(T_), grad(psi)) * dx_left + dt * inner(k_right * grad(T_), grad(psi)) * dx_right + \\\n",
        "dt * psi * h_left * (T_ - T_left) * ds_left + dt * psi * h_right * (T_ - T_right) * ds_right - \\\n",
        "psi * dt * Q * dx_left - psi * dt * Q * dx_right\n",
        "\n",
        "F_T_forward = \\\n",
        "dt * inner(k_left * grad(T_previous), grad(psi)) * dx_left + dt * inner(k_right * grad(T_previous), grad(psi)) * dx_right + \\\n",
        "dt * psi * h_left * (T_previous - T_left_previous) * ds_left + dt * psi * h_right * (T_previous - T_right_previous) * ds_right - \\\n",
        "psi * dt * Q_previous * dx_left - psi * dt * Q_previous * dx_right\n",
        "\n",
        "a_T = lhs(F_T + theta * F_T_backward + (1 - theta) * F_T_forward)\n",
        "l_T = rhs(F_T + theta * F_T_backward + (1 - theta) * F_T_forward)\n",
        "\n",
        "#Solution of system of equations\n",
        "t = 0.\n",
        "xdmf_file = XDMFFile(\"/tmp/transient_heat_conduction_LSTM_PINN-main/solution_field/thermal_results_square.xdmf\") #Path to save output files in google drive\n",
        "xdmf_file.parameters[\"flush_output\"] = True\n",
        "xdmf_file.parameters[\"functions_share_mesh\"] = True\n",
        "xdmf_file.parameters[\"rewrite_function_mesh\"] = False\n",
        "xdmf_file.write(T_previous,0)\n",
        "xdmf_file.write(compute_heat_flux(T_previous),0)\n",
        "\n",
        "for i in range(num_steps):\n",
        "  T_left_previous.t = t\n",
        "  T_right_previous.t = t\n",
        "  Q_previous.t = t\n",
        "  t += dt\n",
        "  T_left.t = t\n",
        "  T_right.t = t\n",
        "  Q.t = t\n",
        "  solve(a_T == l_T, T)\n",
        "  q = compute_heat_flux(T)\n",
        "  xdmf_file.write(T,t)\n",
        "  xdmf_file.write(q,t)\n",
        "  T_previous.assign(T)\n",
        "\n",
        "plot(T)\n",
        "plt.show()"
      ],
      "metadata": {
        "colab": {
          "base_uri": "https://localhost:8080/",
          "height": 269
        },
        "id": "jHYkQ-mJQ4Os",
        "outputId": "c947f7db-0c25-4800-9dcb-f03033be8706"
      },
      "execution_count": 246,
      "outputs": [
        {
          "output_type": "display_data",
          "data": {
            "text/plain": [
              "<Figure size 432x288 with 1 Axes>"
            ],
            "image/png": "[encoded data removed]"
          },
          "metadata": {
            "needs_background": "light"
          }
        }
      ]
    }
  ]
}